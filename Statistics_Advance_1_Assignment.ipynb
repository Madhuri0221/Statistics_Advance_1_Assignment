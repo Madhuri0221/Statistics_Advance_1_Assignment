{
  "nbformat": 4,
  "nbformat_minor": 0,
  "metadata": {
    "colab": {
      "provenance": []
    },
    "kernelspec": {
      "name": "python3",
      "display_name": "Python 3"
    },
    "language_info": {
      "name": "python"
    }
  },
  "cells": [
    {
      "cell_type": "code",
      "source": [
        "# 1) What is a random variable in probability theory?\n",
        "\n",
        "\"\"\"\n",
        "Random variable: A set of all possible outcomes of an experiment\n",
        "eg: tossing a coin: p(H) = 0.5 and p(T) = 0.5\n",
        "rolling a die: p(x=1) = 1/6, p(x=5) = 1/6 etc\n",
        "\n",
        "\"\"\""
      ],
      "metadata": {
        "id": "VVTasuOIaEjs"
      },
      "execution_count": null,
      "outputs": []
    },
    {
      "cell_type": "code",
      "source": [
        "# 2) What are the types of random variables?\n",
        "\n",
        "\"\"\"\n",
        "Discrete RV: takes countable number of distinct values\n",
        "often represents counts\n",
        "we can list all the counts\n",
        "sum of the probabilities is 1\n",
        "we use PMF\n",
        "\n",
        "Continuous RV: takes uncountable no.of values within a given interval\n",
        "often represents measurements\n",
        "we cannot list the values\n",
        "probability is calculated as the area under the curve\n",
        "and the area under the curve is 1\n",
        "we use PDF\n",
        "\n",
        "\"\"\""
      ],
      "metadata": {
        "id": "lckDTPUma3yz"
      },
      "execution_count": null,
      "outputs": []
    },
    {
      "cell_type": "code",
      "source": [
        "# 3) What is the difference between discrete and continuous distributions?\n",
        "\n",
        "\"\"\"\n",
        "We use probability mass function for the discrete distributions\n",
        "we have the countable number of outcomes which can be listed and counted\n",
        "the probability of the events is calculated by summing the\n",
        "probabilities adn it will be equal to 1\n",
        "\n",
        "We use probability density function for the continous distributions\n",
        "we have uncountable number of outcomes within the given interval\n",
        "so we cannot list them or count\n",
        "the probability is calculated by using the area under the curve\n",
        "where the area under the curve is 1\n",
        "\n",
        "\"\"\""
      ],
      "metadata": {
        "id": "Z_ap9K4xdSB7"
      },
      "execution_count": null,
      "outputs": []
    },
    {
      "cell_type": "code",
      "source": [
        "# 4) What are probability distribution functions (PDF)?\n",
        "\n",
        "\"\"\"\n",
        "Probability Density Function (PDF) and\n",
        "Probability Mass Function (PMF)\n",
        "\n",
        "\"\"\""
      ],
      "metadata": {
        "id": "kl2vW1GCegpV"
      },
      "execution_count": null,
      "outputs": []
    },
    {
      "cell_type": "code",
      "source": [
        "# 5) How do cumulative distribution functions (CDF) differ from probability distribution functions (PDF)?\n",
        "\n",
        "\"\"\"\n",
        "Probability Mass Function (PMF): The probability of the event is given exactly\n",
        "eg: tossing a coin and rolling a die\n",
        "p(x=H) = 1/2\n",
        "probabilities are given exactly\n",
        "\n",
        "\n",
        "Probability Density Function (PDF): The probability of the event is given within the range\n",
        "ie., within an interval\n",
        "eg: in rolling a die we get the probability in the given range\n",
        "p(2<=X<=5) = p(X=2)+p(X=3)+p(X=4)+p(X=5)\n",
        "\n",
        "Cummulative Distribution Function (CDF): The probability of getting a number less than\n",
        "or equal to the value\n",
        "eg: in rolling a die we get the probability for less than or equal to the value\n",
        "p(x<=2) = p(X=1)+p(X=2)\n",
        "\n",
        "\"\"\""
      ],
      "metadata": {
        "id": "Th9YPoNVe5dy"
      },
      "execution_count": null,
      "outputs": []
    },
    {
      "cell_type": "code",
      "source": [
        "# 6)  What is a discrete uniform distribution?\n",
        "\n",
        "\"\"\"\n",
        "Discrete Uniform Distribution: The distribution which has equally likely events\n",
        "ie., the outcomes are uniform\n",
        "and as its discrete we can exactly get a number as output\n",
        "\n",
        "the mean and variance are given by\n",
        "\n",
        "mean = (a+b)/2\n",
        "variance = (n^2 - 1)/12\n",
        "\n",
        "a=lower value\n",
        "b=upper value\n",
        "n=sample size\n",
        "\n",
        "\"\"\""
      ],
      "metadata": {
        "id": "OXEQIdG7RCU7"
      },
      "execution_count": null,
      "outputs": []
    },
    {
      "cell_type": "code",
      "source": [
        "# 7) What are the key properties of a Bernoulli distribution?\n",
        "\n",
        "\"\"\"\n",
        "1) A random experiment which has exactly only 2 outcomes\n",
        "2) the trail of the experiment is should be only 1 also called as \"BERNOULLI TRAIL\"\n",
        "3) anytime we perform the random experiment the probability of\n",
        "   happening an event should be same\n",
        "eg: tossing a coin\n",
        "\n",
        "the probability of success event is p\n",
        "and failure event is given as 1-p = q\n",
        "\n",
        "mean = p\n",
        "variance = p(1-p)\n",
        "\n",
        "In terms of probability the mean is called as the EXPECTED VALUE\n",
        "\n",
        "\"\"\""
      ],
      "metadata": {
        "id": "QQ6F8hbUSWRr"
      },
      "execution_count": null,
      "outputs": []
    },
    {
      "cell_type": "code",
      "source": [
        "# 8) What is the binomial distribution, and how is it used in probability?\n",
        "\n",
        "\"\"\"\n",
        "Binomial distribution is n times of bernoulli\n",
        "n = no.of trails\n",
        "1) A random experiment which has exactly only 2 outcomes\n",
        "2) the trail of the experiment is n\n",
        "3) anytime we perform the random experiment the probability of\n",
        "   happening an event should be same\n",
        "eg: tossing a coin\n",
        "\n",
        "the probability of success event is p\n",
        "and failure event is given as 1-p = q\n",
        "\n",
        "mean = np\n",
        "variance = np(1-p)\n",
        "\n",
        "\"\"\"\n"
      ],
      "metadata": {
        "id": "zrGVXIMzTfZq"
      },
      "execution_count": null,
      "outputs": []
    },
    {
      "cell_type": "code",
      "source": [
        "# 9) What is the Poisson distribution and where is it applied?\n",
        "\n",
        "\"\"\"\n",
        "This lets us know the average rate of events happening or occuring\n",
        "in the particular interval\n",
        "\n",
        "eg: Traffic\n",
        "at 5.30 am the average traffic is less\n",
        "by 8.00 am the average traffic is medium\n",
        "by 11.00 am the average traffic is more\n",
        "by 2.00 pm the average traffic is medium\n",
        "by 5.30 pm the average traffic is less\n",
        "\n",
        "\"\"\""
      ],
      "metadata": {
        "id": "PFKyOWjnUABC"
      },
      "execution_count": null,
      "outputs": []
    },
    {
      "cell_type": "code",
      "source": [
        "# 10) What is a continuous uniform distribution?\n",
        "\n",
        "\"\"\"\n",
        "Continuous Uniform Distribution: The distribution which has equally likely events\n",
        "ie., the outcomes are uniform\n",
        "and as its continuous we can get a number as output in the given interval\n",
        "\n",
        "the mean and variance are given by\n",
        "\n",
        "mean = (a+b)/2\n",
        "variance = (b-a)^2/12\n",
        "\n",
        "a=lower value\n",
        "b=upper value\n",
        "n=sample size\n",
        "\n",
        "\"\"\""
      ],
      "metadata": {
        "id": "1ZvGZwXGUvxU"
      },
      "execution_count": null,
      "outputs": []
    },
    {
      "cell_type": "code",
      "source": [
        "# 11) What are the characteristics of a normal distribution?\n",
        "\n",
        "\"\"\"\n",
        "1) It is bell-shaped or symmetrical\n",
        "ie., its not skewed so half of the data falls to the left of mean\n",
        "and half to the right of mean\n",
        "2) as its symmetrical mean=median=mode\n",
        "3) its defined by 2 parameters mean and variance\n",
        "4) it follows the emperical rule:\n",
        "std1 = mu+-sigma : between this range 68% of data lies\n",
        "std2 = mu+-2*sigma : between this range 95% of data lies\n",
        "std1 = mu+-3*sigma : between this range 99.7% of data lies\n",
        "\n",
        "\"\"\""
      ],
      "metadata": {
        "id": "cmT63gznVF2j"
      },
      "execution_count": null,
      "outputs": []
    },
    {
      "cell_type": "code",
      "source": [
        "# 12) What is the standard normal distribution, and why is it important?\n",
        "\n",
        "\"\"\"\n",
        "Standard normal distribution is used to standardize or to increase scalability\n",
        "which makes the computations faster and also we can compare the data of\n",
        "different distributions\n",
        "this is defined by 2 parameters mean and variance\n",
        "mean=0, variance=1\n",
        "any normal distribution can be converted into standard normal by converting its\n",
        "values into z-scores\n",
        "\n",
        "\"\"\""
      ],
      "metadata": {
        "id": "kzAX9Qy7ELB_"
      },
      "execution_count": null,
      "outputs": []
    },
    {
      "cell_type": "code",
      "source": [
        "# 13) What is the Central Limit Theorem (CLT), and why is it critical in statistics?\n",
        "\n",
        "\"\"\"\n",
        "The central limit theorem is used to convert a hap-hazard/irregular/complex\n",
        "distributed data into normal distribution\n",
        "to convert we use sampling techniques to pull a sample\n",
        "and we need to pull sufficiently large no.of samples with replacement\n",
        "ie., if in sample 1 raju, ravi are selected\n",
        "there might be a chance of getting these 2 people into another samples\n",
        "this is called as with replacement\n",
        "the mean of large set of samples form a normal distribution\n",
        "\n",
        "Its critical in stats because:\n",
        "1) Enables accurate predictions and hypothesis testing\n",
        "2) Analyzing patterns is made easy\n",
        "3) Constructing confidence intervals\n",
        "4) Supports various inferential techniques like z-tests, t-tests\n",
        "\n",
        "\"\"\""
      ],
      "metadata": {
        "id": "6XCUyaGJ-o7d"
      },
      "execution_count": null,
      "outputs": []
    },
    {
      "cell_type": "code",
      "source": [
        "# 14) How does the Central Limit Theorem relate to the normal distribution\n",
        "\n",
        "\"\"\"\n",
        "The Central Limit Theorem (CLT) explains why sample means tend to follow a\n",
        "normal distribution, even if the original population is not normally distributed.\n",
        "As sample size increases, the distribution of the sample mean approaches normality\n",
        "due to aggregation effects. This allows statisticians to use normal distribution\n",
        "properties for inference, such as confidence intervals and hypothesis testing.\n",
        "CLT justifies using z-scores and t-tests, making statistical analysis more reliable.\n",
        "It supports approximation techniques in real-world data scenarios.\n",
        "Ultimately, CLT bridges complex population distributions to the simplicity of\n",
        "normal curves for decision-making.\n",
        "\n",
        "\"\"\"\n"
      ],
      "metadata": {
        "id": "nJYGku_0BMBX"
      },
      "execution_count": null,
      "outputs": []
    },
    {
      "cell_type": "code",
      "source": [
        "# 15) What is the application of Z statistics in hypothesis testing?\n",
        "\n",
        "\"\"\"\n",
        "Z statistics are used in hypothesis testing to assess whether a\n",
        "sample mean differs significantly from a known population mean.\n",
        "\n",
        "In the hypothesis testing, inorder to go with z-test, it has few assumptions\n",
        "1) the sample size shud be > 30\n",
        "2) the population standard devition is known\n",
        "\n",
        "so after knowing which kind off test if its 1-tailed or 2-tailed\n",
        "we will calculate the z-statistics\n",
        "\n",
        "This allows researchers to reject or fail to reject the null hypothesis with confidence.\n",
        "\n",
        "Z_stats = (x_bar - mu)/(pop std/sqrt(n))\n",
        "\n",
        "\"\"\""
      ],
      "metadata": {
        "id": "5aH60b72CW0x"
      },
      "execution_count": null,
      "outputs": []
    },
    {
      "cell_type": "code",
      "source": [
        "# 16) How do you calculate a Z-score, and what does it represent?\n",
        "\n",
        "\"\"\"\n",
        "Z_stats = (x_bar - mu)/(pop std/sqrt(n))\n",
        "\n",
        "we need to find the z_critical also, based on the level of significance\n",
        "given (alpha) we can get the probability using z-table\n",
        "\n",
        "if the z_stats > z_critical: the z_stats lie in the rejection region then we reject the\n",
        "null hypothesis\n",
        "\n",
        "if the z_stats < z_critical: the z_stats lie in the acceptance region then we fail to\n",
        "reject the null hypothesis\n",
        "\n",
        "\"\"\""
      ],
      "metadata": {
        "id": "sLKZGuWQDIN1"
      },
      "execution_count": null,
      "outputs": []
    },
    {
      "cell_type": "code",
      "source": [
        "# 17) What are point estimates and interval estimates in statistics?\n",
        "\n",
        "\"\"\"\n",
        "Point estimates: if we are infering the exact output of the sample to the\n",
        "population then its called point estimate\n",
        "the eg output lets say we are calculating the mean\n",
        "\n",
        "Interval estimate: if we are infering the sample output in terms of range/interval\n",
        "to the population then its called interval estimate\n",
        "\n",
        "\"\"\""
      ],
      "metadata": {
        "id": "HM7fgYzdEjhF"
      },
      "execution_count": null,
      "outputs": []
    },
    {
      "cell_type": "code",
      "source": [
        "# 18) What is the significance of confidence intervals in statistical analysis?\n",
        "\n",
        "\"\"\"\n",
        "Confidence interval is calculated by point estimate +- margin of error\n",
        "marging of error = Z_alpha*standard_error\n",
        "standard_error = population mean/sqrt(n)\n",
        "\n",
        "this gives the interval of confidence level\n",
        "lets say if the interval is (150,180) we can say that\n",
        "we are 95% confident that the data point lies in this region\n",
        "\n",
        "that region is called acceptance region\n",
        "\n",
        "\"\"\""
      ],
      "metadata": {
        "id": "P4CLyJKXFnBd"
      },
      "execution_count": null,
      "outputs": []
    },
    {
      "cell_type": "code",
      "source": [
        "# 19)  What is the relationship between a Z-score and a confidence interval?\n",
        "\n",
        "\"\"\"\n",
        "The larger the Z-score, the wider the confidence interval,\n",
        "meaning more certainty about where the true population parameter lies\n",
        "CI = point estimate +- margin of error\n",
        "marging of error = Z_alpha*standard_error\n",
        "standard_error = population mean/sqrt(n)\n",
        "\n",
        "\"\"\""
      ],
      "metadata": {
        "id": "aIo9xw0gJJ3e"
      },
      "execution_count": null,
      "outputs": []
    },
    {
      "cell_type": "code",
      "source": [
        "# 20)  How are Z-scores used to compare different distributions?\n",
        "\n",
        "\"\"\"\n",
        "Using z-scores we can compare different distributions fairly\n",
        "\n",
        "eg: Comparing Salaries\n",
        "Employee X earns ₹60,000 where the company’s average salary is ₹50,000\n",
        "with a standard deviation of ₹8,000.\n",
        "\n",
        "Employee Y earns ₹80,000 at another company where the average is ₹75,000\n",
        "with a standard deviation of ₹10,000.\n",
        "\n",
        "Their Z-scores:\n",
        "\n",
        "Employee X →\n",
        "𝑍=(60,000−50,000)/8,000=1.25\n",
        "Employee Y ->\n",
        "𝑍=(80,000−75,000)/10,000=0.5\n",
        "\n",
        "Even though Employee Y earns more, Employee X is above average in their\n",
        "company by a greater margin.\n",
        "\n",
        "This is how Z-scores help compare different distributions fairly!\n",
        "\n",
        "\"\"\"\n"
      ],
      "metadata": {
        "id": "t62G5DKJNPdg"
      },
      "execution_count": null,
      "outputs": []
    },
    {
      "cell_type": "code",
      "source": [
        "# 21) What are the assumptions for applying the Central Limit Theorem\n",
        "\n",
        "\"\"\"\n",
        "Random Sampling – The data should be collected using a random sampling method to avoid bias.\n",
        "\n",
        "Independence – Each sample observation should be independent of others.\n",
        "\n",
        "Sample Size – The sample size should be sufficiently large (𝑛≥30 is a common rule) to ensure normality.\n",
        "\n",
        "Finite Variance – The population must have a finite variance; extreme outliers can distort results.\n",
        "\n",
        "Not Highly Skewed – While CLT applies regardless of distribution shape, highly skewed populations may require larger samples.\n",
        "\n",
        "\"\"\""
      ],
      "metadata": {
        "id": "-cbpDabYPytP"
      },
      "execution_count": null,
      "outputs": []
    },
    {
      "cell_type": "code",
      "source": [
        "# 22)  What is the concept of expected value in a probability distribution\n",
        "\n",
        "\"\"\"\n",
        "Expected value in the probability means \"MEAN\"\n",
        "it is represented as E(X) = sigma(x.p(x))\n",
        "\n",
        "\"\"\""
      ],
      "metadata": {
        "id": "ZRC00d6JQXFO"
      },
      "execution_count": null,
      "outputs": []
    },
    {
      "cell_type": "code",
      "source": [
        "# 23) How does a probability distribution relate to the expected outcome of a random variable\n",
        "\n",
        "\"\"\"\n",
        "A probability distribution defines how likely different values of a random variable are to occur.\n",
        "The expected outcome (or expected value) is the weighted average of all possible values,\n",
        "using their probabilities as weights. Mathematically, it's calculated as:\n",
        "\n",
        "E(X) = sigma(x.p(x)) here sigma means summation\n",
        "\n",
        "where x = possible values and p(x) = their probabilities\n",
        "\n",
        "\"\"\""
      ],
      "metadata": {
        "id": "GsT_B3RGRcJo"
      },
      "execution_count": null,
      "outputs": []
    }
  ]
}